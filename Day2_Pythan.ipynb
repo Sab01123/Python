{
  "nbformat": 4,
  "nbformat_minor": 0,
  "metadata": {
    "colab": {
      "provenance": [],
      "authorship_tag": "ABX9TyNcBSXUGrO6sSZ+JChvkICx",
      "include_colab_link": true
    },
    "kernelspec": {
      "name": "python3",
      "display_name": "Python 3"
    },
    "language_info": {
      "name": "python"
    }
  },
  "cells": [
    {
      "cell_type": "markdown",
      "metadata": {
        "id": "view-in-github",
        "colab_type": "text"
      },
      "source": [
        "<a href=\"https://colab.research.google.com/github/Sab01123/Python/blob/main/Day2_Pythan.ipynb\" target=\"_parent\"><img src=\"https://colab.research.google.com/assets/colab-badge.svg\" alt=\"Open In Colab\"/></a>"
      ]
    },
    {
      "cell_type": "code",
      "execution_count": 29,
      "metadata": {
        "colab": {
          "base_uri": "https://localhost:8080/"
        },
        "id": "1HSEWlyrSmvj",
        "outputId": "26dfadab-a8c1-4614-a681-ee988715dc34"
      },
      "outputs": [
        {
          "output_type": "stream",
          "name": "stdout",
          "text": [
            "s\n",
            "a\n",
            "r\n",
            "sabira\n",
            "sabira\n",
            "sabira\n",
            "sabir\n",
            "ir\n",
            "sbr\n",
            "*************\n",
            "sabir\n",
            "sabira\n",
            "noezneg\n",
            "lpp\n"
          ]
        }
      ],
      "source": [
        "# Strings\n",
        "\n",
        "x = \"sabira\"\n",
        "\n",
        "# indexing\n",
        "\n",
        "print(x[0])   # s\n",
        "\n",
        "# last elem\n",
        "print(x[-1])  # a\n",
        "\n",
        "# 2nd last elem\n",
        "print(x[-2])  # r\n",
        "\n",
        "# print(x[10])  string index out of range\n",
        "\n",
        "# slicing\n",
        "\n",
        "print(x[:])    # sabira\n",
        "print(x[0:])   # sabira\n",
        "print(x[:6])   # sabira\n",
        "print(x[:5])   # sabir\n",
        "\n",
        "# print only ir\n",
        "print(x[3:5])  # ir\n",
        "\n",
        "# print alternatively\n",
        "print(x[0:6:2]) # sbr\n",
        "\n",
        "print(\"*************\")\n",
        "print(x[-6:-1])  # sabir # it will not print whole string\n",
        "\n",
        "print(x[0:100])  # sabira  No error giving\n",
        "\n",
        "# Reverse the string\n",
        "\n",
        "original_str = \"genzeon\"\n",
        "rev_str = original_str[:: -1]\n",
        "print(rev_str)   # noezneg\n",
        "\n",
        "# print lpp from apple\n",
        "a = \"apple\"\n",
        "print(a[3:0:-1])\n",
        "\n"
      ]
    },
    {
      "cell_type": "code",
      "source": [
        "# string operation\n",
        "\n",
        "str1 = \"hello\"\n",
        "str2 = \"world\"\n",
        "\n",
        "str3 = str1+str2\n",
        "print(str3)   # helloworld\n",
        "\n",
        "print(str1 +\" \"+ str2)\n",
        "\n",
        "print(\"#\" * 5)  # #####\n",
        "\n",
        "# printing triangle of *\n",
        "\n",
        "i = 1\n",
        "while(i<=10) :\n",
        "  print(\"*\" * i)\n",
        "  # i++\n",
        "  i += 1\n"
      ],
      "metadata": {
        "colab": {
          "base_uri": "https://localhost:8080/"
        },
        "id": "16qOw8Gjam9a",
        "outputId": "b75d7c50-05e1-4337-9fae-984cb5569db8"
      },
      "execution_count": 38,
      "outputs": [
        {
          "output_type": "stream",
          "name": "stdout",
          "text": [
            "helloworld\n",
            "hello world\n",
            "#####\n",
            "*\n",
            "**\n",
            "***\n",
            "****\n",
            "*****\n",
            "******\n",
            "*******\n",
            "********\n",
            "*********\n",
            "**********\n"
          ]
        }
      ]
    },
    {
      "cell_type": "code",
      "source": [
        "# string methods\n",
        "\n",
        "# capitalize(): Converts the first character to upper case\n",
        "\n",
        "str1 = \"genzeon\"\n",
        "print(str1.capitalize()) # Genzeon\n",
        "\n",
        "# casefold(): Converts string into lower case\n",
        "str2 = \"genzEOn\"\n",
        "print(str2.casefold())\n",
        "\n",
        "# center():\tReturns a centered string\n",
        "str3 = \"banana\"\n",
        "print(str3.center(20))\n",
        "\n",
        "# count()\tReturns: the number of times a specified value occurs in a string\n",
        "str4 = \"apple\"\n",
        "print(str4.count('p'))\n",
        "\n",
        "# encode()\tReturns an encoded version of the string\n",
        "\n",
        "print(str4.encode())\n",
        "\n",
        "# endswith()\tReturns true if the string ends with the specified value\n",
        "\n",
        "str5 = \"hyderabad\"\n",
        "print(str5.endswith('d'))\n",
        "\n",
        "# expandtabs()\tSets the tab size of the string\n",
        "\n",
        "txt = \"H\\te\\tl\\tl\\to\"\n",
        "x2 =  txt.expandtabs(2)\n",
        "print(x2)\n",
        "\n",
        "name = \"s\\ta\\tb\\ti\\tr\\ta\"\n",
        "print(name)\n",
        "print(name.expandtabs(4))\n",
        "\n",
        "# find()\tSearches the string for a specified value and returns the position of where it was found\n",
        "str7 = \"myGenzeon\"\n",
        "print(str7.find('G'))  # 2\n",
        "\n",
        "# format()\tFormats specified values in a string\n",
        "print(\"my name is {} I am from {}\".format(\"sabira\",\"srinagar\"))\n",
        "\n",
        "# index()\tSearches the string for a specified value and returns the position of where it was found'\n",
        "print(str7.index('G'))  # 2\n",
        "\n",
        "# isalnum()\tReturns True if all characters in the string are alphanumeric\n",
        "# isalpha()\tReturns True if all characters in the string are in the alphabet\n",
        "# isalnum()\tReturns True if all characters in the string are alphanumeric\n",
        "# isascii()\tReturns True if all characters in the string are ascii characters\n",
        "\n",
        "my_str1 = \"sab01123\"\n",
        "\n",
        "print(my_str1.isalnum())  #True\n",
        "print(my_str1.isalpha())  #False\n",
        "print(my_str1.isnumeric())#False\n",
        "print(my_str1.isascii()  )#True\n",
        "\n",
        "# isdecimal()\tReturns True if all characters in the string are decimals\n",
        "# isdigit()\tReturns True if all characters in the string are digits\n",
        "# isnumeric()\tReturns True if all characters in the string are numeric\n",
        "\n",
        "num = \"123\"\n",
        "print(num.isdecimal()) # True\n",
        "print(num.isdigit())   # True\n",
        "print(num.isnumeric()) # True\n",
        "\n",
        "# isidentifier()\tReturns True if the string is an identifier\n",
        "# islower()\tReturns True if all characters in the string are lower case\n",
        "# isupper()\tReturns True if all characters in the string are upper case\n",
        "# istitle()\tReturns True if the string follows the rules of a title\n",
        "str11 = \"MeM\"\n",
        "print(str11.isidentifier())\n",
        "print(str11.islower())\n",
        "print(str11.isupper())\n",
        "print(str11.istitle())\n",
        "print(\"==============================\")\n",
        "\n",
        "myList = [\"Genzeon\", \"company\", \"employee\"]\n",
        "\n",
        "x = \"#\".join(myList)\n",
        "print(x)\n",
        "\n",
        "myList2 = [\"fatima\", \"ayzal\",\"mehak\"]\n",
        "title = \"Miss\"\n",
        "print(title.join(myList2))\n",
        "\n",
        "# lstrip()\tReturns a left trim version of the string\n",
        "name = \"    sanna   \"\n",
        "print(name.lstrip())\n",
        "\n",
        "# rstrip()\tReturns a right trim version of the string\n",
        "name2 = \"    sabba   \"\n",
        "print(name2.rstrip())\n",
        "\n",
        "# split()\tSplits the string at the specified separator, and returns a list\n",
        "name3 = \"g,e,n,z,e,o,n\"\n",
        "print(name3.split(','))\n",
        "\n",
        "# splitlines()\tSplits the string at line breaks and returns a list\n",
        "str11 = \"good morning \\n how are you\"\n",
        "print(str11.splitlines())\n",
        "\n",
        "# swapcase()\tSwaps cases, lower case becomes upper case and vice versa\n",
        "company = \"GenzEOn\"\n",
        "print(company.swapcase())\n",
        "\n",
        "# title()\tConverts the first character of each word to upper case\n",
        "company_name = \"genzeon\"\n",
        "print(company_name.title())  # Genzeon\n",
        "\n",
        "# zfill()\tFills the string with a specified number of 0 values at the beginning\n",
        "order_num = \"A112bw9\"\n",
        "print(order_num.zfill(10))  # 000A112bw9\n"
      ],
      "metadata": {
        "colab": {
          "base_uri": "https://localhost:8080/"
        },
        "id": "7pVdgTvDdHBU",
        "outputId": "799a7bee-1416-496e-9eac-af73a9cc9007"
      },
      "execution_count": 18,
      "outputs": [
        {
          "output_type": "stream",
          "name": "stdout",
          "text": [
            "Genzeon\n",
            "genzeon\n",
            "       banana       \n",
            "2\n",
            "b'apple'\n",
            "True\n",
            "H e l l o\n",
            "s\ta\tb\ti\tr\ta\n",
            "s   a   b   i   r   a\n",
            "2\n",
            "my name is sabira I am from srinagar\n",
            "2\n",
            "True\n",
            "False\n",
            "False\n",
            "True\n",
            "True\n",
            "True\n",
            "True\n",
            "True\n",
            "False\n",
            "False\n",
            "False\n",
            "==============================\n",
            "Genzeon#company#employee\n",
            "fatimaMissayzalMissmehak\n",
            "sanna   \n",
            "    sabba\n",
            "['g', 'e', 'n', 'z', 'e', 'o', 'n']\n",
            "['good morning ', ' how are you']\n",
            "gENZeoN\n",
            "Genzeon\n",
            "000A112bw9\n"
          ]
        }
      ]
    },
    {
      "cell_type": "code",
      "source": [
        "# Lists\n",
        "my_list1 = [1,2,3,4,5]\n",
        "my_list2 = [1,2,\"welcome\", 3.5]\n",
        "my_list3 = [\"g\",\"e\",\"n\",\"z\",\"e\",\"o\",\"n\"]\n",
        "\n",
        "print(my_list1[2])\n",
        "print(my_list2[2][3])\n",
        "print(my_list3[3])\n",
        "\n",
        "# print welcome\n",
        "print(my_list2[2][0:7])\n",
        "\n",
        "# Nested Lists\n",
        "nes_list = [20,\"sab\", my_list1, my_list2, my_list3]\n",
        "# print 3.5 from nes_list\n",
        "print(nes_list[3][3])\n",
        "\n",
        "# List methods\n",
        "\n",
        "# append()\n",
        "old_list = [1,2,3,4]\n",
        "old_list.append(5)\n",
        "print(old_list)   # [1, 2, 3, 4, 5]\n",
        "\n",
        "# extend()\n",
        "old_list.extend([6,7,8,9,10])\n",
        "print(old_list)   # [1, 2, 3, 4, 5, 6, 7, 8, 9, 10]\n",
        "\n",
        "# insert()\n",
        "old_list.insert(0,-1)\n",
        "print(old_list)   # [-1, 1, 2, 3, 4, 5, 6, 7, 8, 9, 10]\n",
        "\n",
        "# pop()\n",
        "old_list.pop()\n",
        "print(old_list)   # [-1, 1, 2, 3, 4, 5, 6, 7, 8, 9]\n",
        "\n",
        "# reverse()\n",
        "old_list.reverse()\n",
        "print(old_list)   # [9, 8, 7, 6, 5, 4, 3, 2, 1, -1]\n",
        "\n",
        "# remove()\n",
        "old_list.remove(-1)\n",
        "print(old_list)\n",
        "\n",
        "# sort()\n",
        "li = [20, 10, 30, 5, 1, 80, 60]\n",
        "li.sort()\n",
        "print(li)\n",
        "\n",
        "# print in descending order\n",
        "li2 = [25, 10, 15, 1, 35, 30]\n",
        "li2.sort()\n",
        "li2.reverse()\n",
        "print(li2)   # [35, 30, 25, 15, 10, 1]\n",
        "\n",
        "# min() and max()\n",
        "print(min(li2))  # 1\n",
        "print(max(li2))  # 35"
      ],
      "metadata": {
        "colab": {
          "base_uri": "https://localhost:8080/"
        },
        "id": "49hqvheSr0sy",
        "outputId": "0b0c92ba-9f3e-4fb1-d3f3-3e050bdc7cdc"
      },
      "execution_count": 45,
      "outputs": [
        {
          "output_type": "stream",
          "name": "stdout",
          "text": [
            "3\n",
            "c\n",
            "z\n",
            "welcome\n",
            "3.5\n",
            "[1, 2, 3, 4, 5]\n",
            "[1, 2, 3, 4, 5, 6, 7, 8, 9, 10]\n",
            "[-1, 1, 2, 3, 4, 5, 6, 7, 8, 9, 10]\n",
            "[-1, 1, 2, 3, 4, 5, 6, 7, 8, 9]\n",
            "[9, 8, 7, 6, 5, 4, 3, 2, 1, -1]\n",
            "[9, 8, 7, 6, 5, 4, 3, 2, 1]\n",
            "[1, 5, 10, 20, 30, 60, 80]\n",
            "[35, 30, 25, 15, 10, 1]\n",
            "1\n",
            "35\n"
          ]
        }
      ]
    },
    {
      "cell_type": "code",
      "source": [
        "# Tuple\n",
        "\n",
        "tuple_list1 = (1, 2, 3, 4)\n",
        "print(tuple_list1)\n",
        "tuple_list2 = (1, 2, \"sabira\", \"haleef\")\n",
        "print(tuple_list2)\n",
        "\n",
        "# nested_tuples\n",
        "nes_tup = [\"hello\", tuple_list1, tuple_list2]\n",
        "# print leef\n",
        "print(nes_tup[2][3][2:6])  # leef\n",
        "\n",
        "# tuple methods\n",
        "tup2 = (1, 2, 2, 2, 3, 3, 4)\n",
        "print(tup2.count(2))\n",
        "print(tup2.index(4))\n",
        "print(len(tup2))\n",
        "print(min(tup2))\n",
        "print(max(tup2))\n"
      ],
      "metadata": {
        "colab": {
          "base_uri": "https://localhost:8080/"
        },
        "id": "dTIRxlONI-sB",
        "outputId": "9bb7017b-ac2e-4288-d756-ae4b2e67e994"
      },
      "execution_count": 43,
      "outputs": [
        {
          "output_type": "stream",
          "name": "stdout",
          "text": [
            "(1, 2, 3, 4)\n",
            "(1, 2, 'sabira', 'haleef')\n",
            "leef\n",
            "3\n",
            "6\n",
            "7\n",
            "1\n",
            "4\n"
          ]
        }
      ]
    },
    {
      "cell_type": "code",
      "source": [
        "# Set\n",
        "# A set is a collection which is unordered, unchangeable*, and unindexed.\n",
        "# Set items are unchangeable, but you can remove items and add new items, duplicates not allowed\n",
        "\n",
        "my_set1 = {1,2,2,3}\n",
        "print(my_set1)  # {1, 2, 3}\n",
        "\n",
        "my_set2 = {\"india\", \"china\", \"afga\", \"us\"}\n",
        "print(my_set2)   #  {'us', 'china', 'afga', 'india'} unordered\n",
        "\n",
        "# set methods\n",
        "\n",
        "my_set = {1,2,5}\n",
        "my_set.add(6)\n",
        "\n",
        "print(my_set)\n",
        "\n",
        "my_set.update({1,2,3,4})\n",
        "print(my_set)\n",
        "print(\"============\")\n",
        "\n",
        "# intersection\n",
        "# The intersection() method returns a set that contains the similarity between two or more sets.\n",
        "\n",
        "x = {\"apple\", \"banana\", \"cherry\"}\n",
        "y = {\"google\", \"microsoft\", \"apple\"}\n",
        "\n",
        "z = x.intersection(y)  # {'apple'}\n",
        "print(x&y)\n",
        "print(z)\n",
        "\n",
        "# intersection_update()\tRemoves the items in this set that are not present in other, specified set(s)\n",
        "\n",
        "set1 = {1,3,4,5}\n",
        "set2 = {1,2,3,4}\n",
        "set1.intersection_update(set2)\n",
        "\n",
        "print(set1)  # {1, 3, 4}\n",
        "\n",
        "# difference()\tReturns a set containing the difference between two or more sets\n",
        "\n",
        "x1 = {\"apple\", \"banana\", \"cherry\"}\n",
        "y1 = {\"google\", \"microsoft\", \"apple\"}\n",
        "\n",
        "z1 = x1.difference(y1)\n",
        "print(z1)  # {'banana', 'cherry'}\n",
        "z2 = y1.difference(x1)\n",
        "print(z2)  # {'microsoft', 'google'}\n",
        "\n",
        "# difference_update()\tRemoves the items in this set that are also included in another, specified set\n",
        "\n",
        "state1 = {\"delhi\", \"punjab\", \"hyd\"}\n",
        "state2 = {\"hyd\", \"kashmir\", \"delhi\"}\n",
        "\n",
        "state1.difference_update(state2)\n",
        "print(state1)  # {'punjab'}\n",
        "\n",
        "# remove discard\n",
        "num_set = {20, 30, 40, 33, 50}\n",
        "num_set.remove(33)\n",
        "print(num_set)  # {50, 20, 40, 30}\n",
        "# num_set.remove(44) # error\n",
        "num_set.discard(44)  # no error\n",
        "print(num_set)"
      ],
      "metadata": {
        "colab": {
          "base_uri": "https://localhost:8080/"
        },
        "id": "uIsPbxaN8hdY",
        "outputId": "31f3ca48-1355-45a9-cc5f-a0689fc8d198"
      },
      "execution_count": 98,
      "outputs": [
        {
          "output_type": "stream",
          "name": "stdout",
          "text": [
            "{1, 2, 3}\n",
            "{'us', 'china', 'afga', 'india'}\n",
            "{1, 2, 5, 6}\n",
            "{1, 2, 3, 4, 5, 6}\n",
            "============\n",
            "{'apple'}\n",
            "{'apple'}\n",
            "{1, 3, 4}\n",
            "{'banana', 'cherry'}\n",
            "{'microsoft', 'google'}\n",
            "{'punjab'}\n",
            "{50, 20, 40, 30}\n",
            "{50, 20, 40, 30}\n"
          ]
        }
      ]
    },
    {
      "cell_type": "code",
      "source": [
        "a = {\"delhi\", \"punjab\", \"hyd\"}\n",
        "b = {\"hyd\", \"kashmir\", \"delhi\"}\n",
        "\n",
        "# Unoin\n",
        "print(a|b)\n",
        "print(a.union(b))\n",
        "print(b|a)\n",
        "print(b.union(a))\n",
        "\n",
        "# intersection\n",
        "print(a&b)\n",
        "print(a.intersection(b))\n",
        "print(b&a)\n",
        "print(b.intersection(a))\n",
        "\n",
        "# difference\n",
        "print(a-b)\n",
        "print(a.difference(b))\n",
        "print(b-a)\n",
        "print(b.difference(a))"
      ],
      "metadata": {
        "colab": {
          "base_uri": "https://localhost:8080/"
        },
        "id": "-DQ9HoqCY7Lp",
        "outputId": "86591a60-494d-46c3-b1ff-66725272c7cd"
      },
      "execution_count": 100,
      "outputs": [
        {
          "output_type": "stream",
          "name": "stdout",
          "text": [
            "{'delhi', 'hyd', 'kashmir', 'punjab'}\n",
            "{'delhi', 'hyd', 'kashmir', 'punjab'}\n",
            "{'delhi', 'hyd', 'kashmir', 'punjab'}\n",
            "{'delhi', 'hyd', 'kashmir', 'punjab'}\n",
            "{'hyd', 'delhi'}\n",
            "{'hyd', 'delhi'}\n",
            "{'hyd', 'delhi'}\n",
            "{'hyd', 'delhi'}\n",
            "{'punjab'}\n",
            "{'punjab'}\n",
            "{'kashmir'}\n",
            "{'kashmir'}\n"
          ]
        }
      ]
    },
    {
      "cell_type": "code",
      "source": [
        "# Dictioners\n",
        "my_dictionery = {\"id\":31, \"name\": \"sabira\",\"address\":\"hyd\"}\n",
        "print(my_dictionery[\"name\"])\n",
        "print(my_dictionery.keys())\n",
        "print(my_dictionery.values())\n",
        "print(my_dictionery.get(\"id\"))\n",
        "\n",
        "for i in my_dictionery:\n",
        "  print(my_dictionery.get(i))\n",
        "\n",
        "for key, value in my_dictionery.items():\n",
        "  print(key,value)\n",
        "\n"
      ],
      "metadata": {
        "colab": {
          "base_uri": "https://localhost:8080/"
        },
        "id": "JLCOfEPwbsWl",
        "outputId": "19355891-cb38-41e8-b8c0-45341a774e79"
      },
      "execution_count": 132,
      "outputs": [
        {
          "output_type": "stream",
          "name": "stdout",
          "text": [
            "sabira\n",
            "dict_keys(['id', 'name', 'address'])\n",
            "dict_values([31, 'sabira', 'hyd'])\n",
            "31\n",
            "31\n",
            "sabira\n",
            "hyd\n",
            "id 31\n",
            "name sabira\n",
            "address hyd\n"
          ]
        }
      ]
    },
    {
      "cell_type": "code",
      "source": [
        "# String Formats\n",
        "name = \"Sabira\"\n",
        "language = \"Python\"\n",
        "year = 2023\n",
        "\n",
        "print(name , \"is learning\" , language, \"in year\", year)\n",
        "\n",
        "# Format  # placeholder\n",
        "print(\"{} is learning {} in year {}\".format(name,language,year))\n",
        "\n",
        "print(\"%s is learning %s in year %s\"%(name,language,year))\n",
        "\n",
        "mem1 = \"We are {:>10} members.\"\n",
        "print(mem1.format(15))\n",
        "\n",
        "mem2 = \"We are {:<10} members.\"\n",
        "print(mem2.format(15))\n",
        "\n",
        "# rawstring\n",
        "print(f\"{name} is learning {language} in year {year}\")\n"
      ],
      "metadata": {
        "colab": {
          "base_uri": "https://localhost:8080/"
        },
        "id": "aAKHzI4656JB",
        "outputId": "88c61203-7cd7-4f90-e38d-9c2a20f50bc7"
      },
      "execution_count": 19,
      "outputs": [
        {
          "output_type": "stream",
          "name": "stdout",
          "text": [
            "Sabira is learning Python in year 2023\n",
            "Sabira is learning Python in year 2023\n",
            "Sabira is learning Python in year 2023\n",
            "We are         15 members.\n",
            "We are 15         members.\n",
            "Sabira is learning Python in year 2023\n"
          ]
        }
      ]
    },
    {
      "cell_type": "code",
      "source": [
        "# input()\n",
        "\n",
        "user_name = input(\"Enter your name\")\n",
        "greet = f\"Hello {user_name} welcome\"\n",
        "print(greet)\n",
        "\n",
        "# Convert Weight\n",
        "weight = input(\"Enter your weight \")\n",
        "\n",
        "unit = input(\"K(g) or L(bs): \")\n",
        "\n",
        "if unit.upper() == \"K\" :\n",
        "    print(\"weight in L(bs): \" + str(float(weight)/0.45))\n",
        "elif unit.upper() == \"L\" :\n",
        "    print(\"weight in K(g): \" + str(float(weight)*0.45))\n",
        "else : print(\"please enter a valid weight\")\n"
      ],
      "metadata": {
        "id": "r8ZkSzaoAnrJ"
      },
      "execution_count": null,
      "outputs": []
    },
    {
      "cell_type": "code",
      "source": [
        "# Conditional Statements\n",
        "\n",
        "temp = 35\n",
        "\n",
        "if temp > 40 :\n",
        "    print(\"don't go outside, it's very hot\")\n",
        "    print(\"drink plenty of water\")\n",
        "\n",
        "elif temp > 30:\n",
        "    print(\"it's a hot day\")\n",
        "\n",
        "else: print(\"cold day\")\n",
        "\n",
        "print(\"thank you\")"
      ],
      "metadata": {
        "colab": {
          "base_uri": "https://localhost:8080/"
        },
        "id": "2VqO0hNaVrnf",
        "outputId": "97737b4d-0741-4900-9664-b5b20038b7e0"
      },
      "execution_count": 20,
      "outputs": [
        {
          "output_type": "stream",
          "name": "stdout",
          "text": [
            "it's a hot day\n",
            "thank you\n"
          ]
        }
      ]
    },
    {
      "cell_type": "code",
      "source": [
        "# Loops\n",
        "i = 1\n",
        "while i<=10 :\n",
        "    print(i)\n",
        "    # i = i+1\n",
        "    i += 1\n",
        "    # i++  invalid\n",
        "\n",
        "# j = 1\n",
        "# while j<= 1_000 :   # it will print nums 1 to 1000\n",
        "#     print(j)\n",
        "#     j+=1\n",
        "\n",
        "# we can multiply numbers with str\n",
        "\n",
        "i = 1\n",
        "\n",
        "while i<=10:\n",
        "    print(i*'*')\n",
        "    i+=1\n",
        "\n",
        "# for loop\n",
        "\n",
        "nums = [1,2,3,4,5,6]\n",
        "for i in nums:\n",
        "    print(i)\n",
        "\n",
        "names = [\"sabira\", \"saba\", \"noor\", \"no\"]\n",
        "for nav in names:\n",
        "    print(nav)\n",
        "\n",
        "n = 0\n",
        "while n < len(names) :\n",
        "    print(names[n])\n",
        "    n +=1\n"
      ],
      "metadata": {
        "colab": {
          "base_uri": "https://localhost:8080/"
        },
        "id": "QHn1iSDnWkrY",
        "outputId": "67b8a51f-cf3d-42b0-84e1-4a530d509297"
      },
      "execution_count": 24,
      "outputs": [
        {
          "output_type": "stream",
          "name": "stdout",
          "text": [
            "1\n",
            "2\n",
            "3\n",
            "4\n",
            "5\n",
            "6\n",
            "7\n",
            "8\n",
            "9\n",
            "10\n",
            "*\n",
            "**\n",
            "***\n",
            "****\n",
            "*****\n",
            "******\n",
            "*******\n",
            "********\n",
            "*********\n",
            "**********\n",
            "1\n",
            "2\n",
            "3\n",
            "4\n",
            "5\n",
            "6\n",
            "sabira\n",
            "saba\n",
            "noor\n",
            "no\n",
            "sabira\n",
            "saba\n",
            "noor\n",
            "no\n"
          ]
        }
      ]
    },
    {
      "cell_type": "code",
      "source": [
        "# range()\n",
        "\n",
        "for i in range(5):\n",
        "    print(i)\n",
        "\n",
        "for i in range(1,101,10):\n",
        "    print(i)\n",
        "\n",
        "user_names = [\"abc\",\"def\",\"ghi\",\"jkl\",\"mno\",\"pqr\"]\n",
        "for x in range(0,3):\n",
        "    print(user_names[x])"
      ],
      "metadata": {
        "colab": {
          "base_uri": "https://localhost:8080/"
        },
        "id": "mQ6Gi491XDW-",
        "outputId": "361bda7a-28d1-4cef-ce25-2bbba69150db"
      },
      "execution_count": 21,
      "outputs": [
        {
          "output_type": "stream",
          "name": "stdout",
          "text": [
            "0\n",
            "1\n",
            "2\n",
            "3\n",
            "4\n",
            "1\n",
            "11\n",
            "21\n",
            "31\n",
            "41\n",
            "51\n",
            "61\n",
            "71\n",
            "81\n",
            "91\n",
            "abc\n",
            "def\n",
            "ghi\n"
          ]
        }
      ]
    },
    {
      "cell_type": "code",
      "source": [
        "# Matrix\n",
        "mat1 = [[1,2,3],[4,5,6],[7,8,9]]\n",
        "mat2 = [[9,8,7],[6,5,4],[3,2,1]]\n",
        "\n",
        "temp = [[0,0,0],[0,0,0],[0,0,0]]\n",
        "\n",
        "for i in range(len(mat1)):\n",
        "  for j in range(len(mat1[0])):\n",
        "    temp[i][j] = mat1[i][j] + mat2[i][j]\n",
        "print(temp)"
      ],
      "metadata": {
        "colab": {
          "base_uri": "https://localhost:8080/"
        },
        "id": "ayz9YD3PYhdr",
        "outputId": "c8aeafa8-0aca-47fd-861d-d8aba7c4c6ed"
      },
      "execution_count": 26,
      "outputs": [
        {
          "output_type": "stream",
          "name": "stdout",
          "text": [
            "[[10, 10, 10], [10, 10, 10], [10, 10, 10]]\n"
          ]
        }
      ]
    },
    {
      "cell_type": "code",
      "source": [
        "# Nested while\n",
        "num = int(input(\"enter the number upto which you want all tables\"))\n",
        "i = 1\n",
        "while i<=num :\n",
        "  j = 1\n",
        "  print(f\"\\n Table of {i}\")\n",
        "  while j<=10 :\n",
        "    print(f\"{i} * {j} = {i*j}\")\n",
        "    j += 1\n",
        "  i+=1"
      ],
      "metadata": {
        "colab": {
          "base_uri": "https://localhost:8080/"
        },
        "id": "YxciQ6A2aY2p",
        "outputId": "8bf17c51-7b1e-4c40-e0f6-f2bbeafad0ad"
      },
      "execution_count": 33,
      "outputs": [
        {
          "output_type": "stream",
          "name": "stdout",
          "text": [
            "enter the number upto which you want all tables5\n",
            "\n",
            " Table of 1\n",
            "1 * 1 = 1\n",
            "1 * 2 = 2\n",
            "1 * 3 = 3\n",
            "1 * 4 = 4\n",
            "1 * 5 = 5\n",
            "1 * 6 = 6\n",
            "1 * 7 = 7\n",
            "1 * 8 = 8\n",
            "1 * 9 = 9\n",
            "1 * 10 = 10\n",
            "\n",
            " Table of 2\n",
            "2 * 1 = 2\n",
            "2 * 2 = 4\n",
            "2 * 3 = 6\n",
            "2 * 4 = 8\n",
            "2 * 5 = 10\n",
            "2 * 6 = 12\n",
            "2 * 7 = 14\n",
            "2 * 8 = 16\n",
            "2 * 9 = 18\n",
            "2 * 10 = 20\n",
            "\n",
            " Table of 3\n",
            "3 * 1 = 3\n",
            "3 * 2 = 6\n",
            "3 * 3 = 9\n",
            "3 * 4 = 12\n",
            "3 * 5 = 15\n",
            "3 * 6 = 18\n",
            "3 * 7 = 21\n",
            "3 * 8 = 24\n",
            "3 * 9 = 27\n",
            "3 * 10 = 30\n",
            "\n",
            " Table of 4\n",
            "4 * 1 = 4\n",
            "4 * 2 = 8\n",
            "4 * 3 = 12\n",
            "4 * 4 = 16\n",
            "4 * 5 = 20\n",
            "4 * 6 = 24\n",
            "4 * 7 = 28\n",
            "4 * 8 = 32\n",
            "4 * 9 = 36\n",
            "4 * 10 = 40\n",
            "\n",
            " Table of 5\n",
            "5 * 1 = 5\n",
            "5 * 2 = 10\n",
            "5 * 3 = 15\n",
            "5 * 4 = 20\n",
            "5 * 5 = 25\n",
            "5 * 6 = 30\n",
            "5 * 7 = 35\n",
            "5 * 8 = 40\n",
            "5 * 9 = 45\n",
            "5 * 10 = 50\n"
          ]
        }
      ]
    }
  ]
}