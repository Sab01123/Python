{
  "cells": [
    {
      "cell_type": "markdown",
      "metadata": {
        "id": "view-in-github",
        "colab_type": "text"
      },
      "source": [
        "<a href=\"https://colab.research.google.com/github/Sab01123/Python/blob/main/Day3_Python.ipynb\" target=\"_parent\"><img src=\"https://colab.research.google.com/assets/colab-badge.svg\" alt=\"Open In Colab\"/></a>"
      ]
    },
    {
      "cell_type": "code",
      "execution_count": null,
      "metadata": {
        "colab": {
          "base_uri": "https://localhost:8080/"
        },
        "id": "JYHdBQSyd5Ma",
        "outputId": "aff340cc-ec0a-477b-841f-2490a66619e9"
      },
      "outputs": [
        {
          "name": "stdout",
          "output_type": "stream",
          "text": [
            "Enter number: 5\n"
          ]
        },
        {
          "data": {
            "text/plain": [
              "['1', '2', 'Fizz', '4', 'Buzz']"
            ]
          },
          "execution_count": 9,
          "metadata": {},
          "output_type": "execute_result"
        }
      ],
      "source": [
        "# Task by Murali Anna\n",
        "# Given a positive integer A, return an array of strings with all the integers from 1 to N.\n",
        "# But for multiples of 3 the array should have “Fizz” instead of the number.For the multiples of 5,\n",
        "# the array should have “Buzz” instead of the number.For numbers which are multiple of 3 and 5 both,\n",
        "# the array should have \"FizzBuzz\" instead of the number.\n",
        "\n",
        "# example:\n",
        "# input as 5\n",
        "# [1 2 Fizz 4 Buzz]\n",
        "#  like 1\n",
        "\n",
        "# function\n",
        "def my_fun(n):\n",
        "  str_arr = []\n",
        "  for i in range(1,n+1):\n",
        "    if i%3==0 and i%5==0:\n",
        "      str_arr.append(\"FizzBuzz\")\n",
        "    elif i%5==0:\n",
        "      str_arr.append(\"Buzz\")\n",
        "    elif i%3==0:\n",
        "      str_arr.append(\"Fizz\")\n",
        "    else:\n",
        "      str_arr.append(str(i))\n",
        "  return str_arr\n",
        "\n",
        "A = int(input(\"Enter number: \"))\n",
        "my_fun(A)\n",
        "\n",
        "# forloop\n",
        "A = int(input(\"Enter number: \"))\n",
        "\n",
        "strarr = []\n",
        "for i in range(1,A+1):\n",
        "  if i%3==0 and i%5==0:\n",
        "     strarr.append(\"FizzBuzz\")\n",
        "  elif i%5==0:\n",
        "    strarr.append(\"Buzz\")\n",
        "  elif i%3==0:\n",
        "    strarr.append(\"Fizz\")\n",
        "  else:\n",
        "    strarr.append(str(i))\n",
        "print(strarr)\n",
        "\n",
        "# While\n",
        "A = int(input(\"Enter number: \"))\n",
        "strarr = []\n",
        "i = 1\n",
        "while i<= A:\n",
        "\n",
        " if i%3==0 and i%5==0:\n",
        "  strarr.append(\"FizzBuzz\")\n",
        " elif i%5==0:\n",
        "  strarr.append(\"Buzz\")\n",
        " elif i%3==0:\n",
        "  strarr.append(\"Fizz\")\n",
        " else:\n",
        "  strarr.append(str(i))\n",
        " i += 1\n",
        "print(strarr)"
      ]
    },
    {
      "cell_type": "code",
      "execution_count": null,
      "metadata": {
        "colab": {
          "base_uri": "https://localhost:8080/"
        },
        "id": "93CySNxuxJ9Z",
        "outputId": "bb177094-2787-48f2-dbce-04efa0207180"
      },
      "outputs": [
        {
          "name": "stdout",
          "output_type": "stream",
          "text": [
            "50\n",
            "50\n",
            "50\n"
          ]
        }
      ],
      "source": [
        " # User Defined Functions\n",
        "\n",
        "def func(name):\n",
        "  print(f\"Welcome {name}\")\n",
        "\n",
        "# naam = input(\"enter name: \")\n",
        "# func(naam)\n",
        "\n",
        "# enter name: sabira farooq\n",
        "# Welcome sabira farooq\n",
        "\n",
        "def func2(x, y=10,z=20):\n",
        "  return x+y+z\n",
        "print(func2(10, 20, 20))        # default\n",
        "print(func2(x=10, y=20, z= 20)) # keyword\n",
        "\n",
        "#positional\n",
        "def func3(x,y,z):\n",
        "  return x+y+z\n",
        "print(func3(10, 20, 20))"
      ]
    },
    {
      "cell_type": "code",
      "execution_count": null,
      "metadata": {
        "colab": {
          "base_uri": "https://localhost:8080/"
        },
        "id": "4jcyMNLN1xg6",
        "outputId": "d55a9f58-ae56-40f1-f50e-f8a67ac8f279"
      },
      "outputs": [
        {
          "name": "stdout",
          "output_type": "stream",
          "text": [
            "(1, 2, 3, 4, 5)\n",
            "15\n"
          ]
        }
      ],
      "source": [
        "# Arbitrary Arguments\n",
        "\n",
        "def sum_func(*nums):\n",
        "  print(nums)\n",
        "  print(sum(nums))\n",
        "sum_func(1,2,3,4,5)"
      ]
    },
    {
      "cell_type": "code",
      "execution_count": null,
      "metadata": {
        "colab": {
          "base_uri": "https://localhost:8080/"
        },
        "id": "j_6thSmy8pdD",
        "outputId": "3d79dd74-3931-4464-b399-340158280641"
      },
      "outputs": [
        {
          "name": "stdout",
          "output_type": "stream",
          "text": [
            "{'emp_id': 31, 'name': 'sabira', 'address': 'sgr'}\n",
            "{'num1': 10, 'num2': 20, 'num3': 30}\n"
          ]
        }
      ],
      "source": [
        "# Arbitrary keywords\n",
        "\n",
        "def dictionary_func(**kwargs):\n",
        "  return kwargs\n",
        "info = dictionary_func(emp_id = 31, name = \"sabira\", address = \"sgr\")\n",
        "print(info)\n",
        "\n",
        "def dictionary_func2(**ar):\n",
        "  return ar\n",
        "res = dictionary_func(num1= 10, num2 = 20, num3 = 30)\n",
        "print(res)"
      ]
    },
    {
      "cell_type": "code",
      "execution_count": null,
      "metadata": {
        "colab": {
          "base_uri": "https://localhost:8080/"
        },
        "id": "qS4X6LPD-4kJ",
        "outputId": "af2cc0c7-4108-4116-e206-1cbdb6687b8a"
      },
      "outputs": [
        {
          "name": "stdout",
          "output_type": "stream",
          "text": [
            "enter number: 4\n",
            "# # # # \n",
            "# # # # \n",
            "# # # # \n",
            "# # # # \n"
          ]
        }
      ],
      "source": [
        "num = int(input(\"enter number: \"))\n",
        "for i in range(0,num):\n",
        "\n",
        "  for j in range(0,num):\n",
        "    print(\"#\", end=\" \")\n",
        "  print()\n",
        "\n"
      ]
    },
    {
      "cell_type": "code",
      "execution_count": null,
      "metadata": {
        "colab": {
          "base_uri": "https://localhost:8080/"
        },
        "id": "sGE2JMgLElDZ",
        "outputId": "e84428cb-9bea-4643-87cf-3eefcedb06ff"
      },
      "outputs": [
        {
          "name": "stdout",
          "output_type": "stream",
          "text": [
            "enter number: 5\n",
            "    *\n",
            "   ***\n",
            "  *****\n",
            " *******\n",
            "*********\n"
          ]
        }
      ],
      "source": [
        "\n",
        "def star_func(num):\n",
        "    for i in range(1, num + 1):\n",
        "        for j in range(num - i):\n",
        "            print(\" \", end=\"\")\n",
        "\n",
        "        for k in range(2 * i - 1):\n",
        "            print(\"*\", end=\"\")\n",
        "        print()\n",
        "num = int(input(\"enter number: \"))\n",
        "star_func(num)"
      ]
    },
    {
      "cell_type": "code",
      "execution_count": null,
      "metadata": {
        "colab": {
          "base_uri": "https://localhost:8080/"
        },
        "id": "XXgGjvOMKym9",
        "outputId": "b01054ee-3a50-4d52-c97d-6557fcaccf89"
      },
      "outputs": [
        {
          "name": "stdout",
          "output_type": "stream",
          "text": [
            "HELLO WELCOME ALL\n",
            "hello welcome all\n"
          ]
        }
      ],
      "source": [
        "# Higher Order Function\n",
        "\n",
        "def shoutout(msg):\n",
        "  return msg.upper()\n",
        "\n",
        "def greet(msg):\n",
        "  return msg.lower()\n",
        "\n",
        "def message(func):\n",
        "  print(func(\"hello WELCOME all\"))\n",
        "\n",
        "message(shoutout)\n",
        "message(greet)\n"
      ]
    },
    {
      "cell_type": "code",
      "execution_count": null,
      "metadata": {
        "colab": {
          "base_uri": "https://localhost:8080/"
        },
        "id": "r2VOxW_SMdPp",
        "outputId": "4a7b3f78-e45a-4a3f-8a6d-2492eb6aa9c4"
      },
      "outputs": [
        {
          "name": "stdout",
          "output_type": "stream",
          "text": [
            "6\n",
            "6\n",
            "0\n",
            "1000\n",
            "5\n",
            "5\n"
          ]
        }
      ],
      "source": [
        "# Lamda\n",
        "def incr(num):\n",
        "  num += 1\n",
        "  return num\n",
        "print(incr(5))\n",
        "\n",
        "print((lambda i:i+1)(5))\n",
        "print((lambda x:x%2)(10))\n",
        "print((lambda i,j:i**j)(10,3))\n",
        "\n",
        "sum = (lambda x,y:x+y)(2,3)\n",
        "print(sum)\n",
        "\n",
        "sum = lambda x,y:x+y\n",
        "print(sum(2,3))"
      ]
    },
    {
      "cell_type": "code",
      "execution_count": null,
      "metadata": {
        "colab": {
          "base_uri": "https://localhost:8080/"
        },
        "id": "PzqF0mqf31AZ",
        "outputId": "34cf6a06-a2cf-453e-f203-58939786c74b"
      },
      "outputs": [
        {
          "name": "stdout",
          "output_type": "stream",
          "text": [
            "[3, 4, 5, 6]\n"
          ]
        }
      ],
      "source": [
        "#map\n",
        "\n",
        "mylist = [1,2,3,4]\n",
        "op = list(map(lambda x:x+2,(mylist)))\n",
        "print(op)"
      ]
    },
    {
      "cell_type": "code",
      "execution_count": null,
      "metadata": {
        "colab": {
          "base_uri": "https://localhost:8080/"
        },
        "id": "ySdzk-j95X0x",
        "outputId": "662f464a-9008-4429-9a6d-8b27eea48170"
      },
      "outputs": [
        {
          "name": "stdout",
          "output_type": "stream",
          "text": [
            "20 is Even number\n",
            "44 is Even number\n",
            "50 is Even number\n",
            "33 is Odd number\n",
            "90 is Even number\n",
            "73 is Odd number\n",
            "68 is Even number\n",
            "45 is Odd number\n"
          ]
        }
      ],
      "source": [
        "# Even odd\n",
        "\n",
        "def even_odd(num):\n",
        "  if(num%2==0):\n",
        "    return print(f\"{num} is Even number\")\n",
        "  else:\n",
        "    return print(f\"{num} is Odd number\")\n",
        "\n",
        "numList = [20,44,50,33,90,73,68,45]\n",
        "\n",
        "result = list(map(even_odd, numList))\n"
      ]
    },
    {
      "cell_type": "code",
      "execution_count": null,
      "metadata": {
        "colab": {
          "base_uri": "https://localhost:8080/"
        },
        "id": "vAoXFopj7SDt",
        "outputId": "18b41d3f-4067-4c17-9188-87050fce9cfe"
      },
      "outputs": [
        {
          "name": "stdout",
          "output_type": "stream",
          "text": [
            "[44, 56, 26, 14, 100]\n"
          ]
        }
      ],
      "source": [
        "# Filter\n",
        "\n",
        "my_list = [23,44,56,75,33,26,14,79,99,100]\n",
        "li = list(filter(lambda x:x%2==0, my_list))\n",
        "print(li)"
      ]
    },
    {
      "cell_type": "code",
      "execution_count": null,
      "metadata": {
        "colab": {
          "base_uri": "https://localhost:8080/"
        },
        "id": "l59Oua7j81eV",
        "outputId": "bcf9560f-fc9b-4dae-a2a1-4480e05e88d4"
      },
      "outputs": [
        {
          "name": "stdout",
          "output_type": "stream",
          "text": [
            "7\n",
            "3\n"
          ]
        }
      ],
      "source": [
        "# Class and Object\n",
        "\n",
        "class my_class:\n",
        "  def add(self, a, b):\n",
        "    return a+b\n",
        "\n",
        "  def sub(self, a, b):\n",
        "    return a-b\n",
        "\n",
        "c = my_class()\n",
        "\n",
        "print(c.add(5,2))\n",
        "print(c.sub(5,2))"
      ]
    },
    {
      "cell_type": "code",
      "execution_count": null,
      "metadata": {
        "colab": {
          "base_uri": "https://localhost:8080/"
        },
        "id": "QOLPjRAUCzre",
        "outputId": "d1392c15-dc9a-401d-d58b-a1b7a0d6d7ca"
      },
      "outputs": [
        {
          "name": "stdout",
          "output_type": "stream",
          "text": [
            "Cat makes sound Meow \n",
            "Dog makes sound bark \n",
            "Dog makes sound bark  colour is black\n"
          ]
        }
      ],
      "source": [
        "# Inheritance\n",
        "\n",
        "class Animal():\n",
        "  def animal_sound(self):\n",
        "    return \"makes sound\"\n",
        "\n",
        "class Cat(Animal):\n",
        "  def cat_sound(self):\n",
        "    return self.animal_sound() + \" Meow \"\n",
        "  def __str__(self):\n",
        "    return \"Cat\"\n",
        "\n",
        "c = Cat()\n",
        "print(c,c.cat_sound())\n",
        "\n",
        "class Dog(Animal):\n",
        "  def dog_sound(self):\n",
        "    return self.animal_sound() + \" bark \"\n",
        "  def animal_colour(self):\n",
        "    return \"colour is black\"\n",
        "  def __str__(self):\n",
        "    return \"Dog\"\n",
        "\n",
        "d = Dog()\n",
        "print(d,d.dog_sound())\n",
        "\n",
        "class DogColour(Dog):\n",
        "  def color(self):\n",
        "    return self.animal_colour()\n",
        "\n",
        "dc = DogColour()\n",
        "print(dc,dc.dog_sound(),dc.animal_colour())\n",
        "\n"
      ]
    },
    {
      "cell_type": "code",
      "execution_count": null,
      "metadata": {
        "colab": {
          "background_save": true
        },
        "id": "jzu_Fjo7NPPy"
      },
      "outputs": [],
      "source": [
        "# OS Module\n",
        "\n",
        "import os\n",
        "\n",
        "# os.mkdir(\"hi\")\n",
        "# os.chdir(\"hi\")\n",
        "# os.getcwd()  # /content/hi\n",
        "# os.listdir()\n",
        "# os.rmdir(\"/content/hi\")\n",
        "os.mkdir(\"hello\")\n"
      ]
    },
    {
      "cell_type": "code",
      "source": [
        "# Math Module\n",
        "import math\n",
        "\n",
        "# sqrt function in python\n",
        "\n",
        "print(math.sqrt(25))  # 5.0\n",
        "\n",
        "#ceil function in python\n",
        "\n",
        "print(math.ceil(2.5)) # 3\n",
        "print(math.ceil(-2.5)) #-2\n",
        "\n",
        "#floor function in python\n",
        "\n",
        "print(math.floor(2.5)) # 2\n",
        "print(math.floor(-2.5)) #-3\n",
        "\n",
        "#pow function in python\n",
        "\n",
        "print(math.pow(2,3))  # 8.0\n",
        "print(math.pow(10,3)) # 1000.0\n",
        "\n",
        "#fabs function in python\n",
        "\n",
        "print(math.fabs(-23))  # 23.0  it will return positive float value\n",
        "\n",
        "#factorial function in python\n",
        "\n",
        "print(math.factorial(3)) # 6\n",
        "print(math.factorial(4)) # 24\n",
        "print(math.factorial(0)) # 1 factorial of zero is 1\n",
        "print(math.factorial(1)) # 1\n",
        "\n",
        "#sin function in python\n",
        "\n",
        "print(math.sin(10)) # -0.5440211108893698\n",
        "print(math.sin(math.radians(10)))  # 0.17364817766693033\n",
        "\n",
        "#cos function in python\n",
        "\n",
        "print(math.cos(10)) # -0.8390715290764524\n",
        "print(math.cos(math.radians(10))) # 0.984807753012208\n",
        "\n",
        "#tan function in python\n",
        "\n",
        "print(math.tan(45)) # 1.6197751905438615\n",
        "print(math.tan(math.radians(45))) # 0.9999999999999999\n",
        "\n",
        "#log function in python\n",
        "\n",
        "print(math.log(1)) # 0.0\n",
        "print(math.log(2)) # 0.6931471805599453\n",
        "\n",
        "# math.fmod()\tReturns the remainder of x/y\n",
        "print(math.fmod(10,3)) # 1.0\n",
        "print(\"***************\")\n",
        "\n",
        "#fsum function in python\n",
        "arr = [1,2,3,4,5]\n",
        "print(math.fsum(arr)) # 15.0\n",
        "\n",
        "# math.gcd()\tReturns the greatest common divisor of two integers\n",
        "print(math.gcd(5, 10)) # 5\n",
        "\n",
        "# math.isclose()\tChecks whether two values are close to each other, or not\n",
        "print(math.isclose(2,3)) # False\n",
        "print(math.isclose(2,2)) # True\n",
        "\n",
        "# constants\n",
        "\n",
        "print(math.pi) # 3.141592653589793\n",
        "print(math.e) # 2.718281828459045\n",
        "\n",
        "# math.e\tReturns Euler's number (2.7182...)\n",
        "# math.inf\tReturns a floating-point positive infinity\n",
        "# math.nan\tReturns a floating-point NaN (Not a Number) value\n",
        "# math.pi\tReturns PI (3.1415...)\n",
        "# math.tau\tReturns tau (6.2831...)\n",
        "\n",
        "\n",
        "num = 25\n",
        "print(math.gcd(num))\n",
        "print(math.isfinite(num))\n",
        "print(math.isnan(num)) # False\n",
        "print(math.remainder(num,5)) # 0.0\n",
        "print(math.isqrt(num)) # 5\n",
        "print(not math.isnan(num)) # True\n",
        "print(math.fmod(10,3)) # 1.0\n",
        "\n",
        "arr2 = [1,2]\n",
        "print(math.isfinite(arr[0]))\n"
      ],
      "metadata": {
        "colab": {
          "base_uri": "https://localhost:8080/"
        },
        "id": "P5qKWkv8YQ7q",
        "outputId": "db1efa33-2efe-4cb3-de6e-44dcaee5c6bf"
      },
      "execution_count": 8,
      "outputs": [
        {
          "output_type": "stream",
          "name": "stdout",
          "text": [
            "5.0\n",
            "3\n",
            "-2\n",
            "2\n",
            "-3\n",
            "8.0\n",
            "1000.0\n",
            "23.0\n",
            "6\n",
            "24\n",
            "1\n",
            "1\n",
            "-0.5440211108893698\n",
            "0.17364817766693033\n",
            "-0.8390715290764524\n",
            "0.984807753012208\n",
            "1.6197751905438615\n",
            "0.9999999999999999\n",
            "0.0\n",
            "0.6931471805599453\n",
            "1.0\n",
            "***************\n",
            "15.0\n",
            "5\n",
            "False\n",
            "True\n",
            "3.141592653589793\n",
            "2.718281828459045\n",
            "25\n",
            "True\n",
            "False\n",
            "0.0\n",
            "5\n",
            "True\n",
            "1.0\n",
            "True\n"
          ]
        }
      ]
    },
    {
      "cell_type": "code",
      "source": [
        "# Sys Module\n",
        "import sys\n",
        "print(sys.path)\n",
        "print(sys.version)\n",
        "print(sys.maxsize)\n"
      ],
      "metadata": {
        "colab": {
          "base_uri": "https://localhost:8080/"
        },
        "id": "yDpTGM7ARg8L",
        "outputId": "edca11e6-0056-465f-a658-7890874616de"
      },
      "execution_count": 50,
      "outputs": [
        {
          "output_type": "stream",
          "name": "stdout",
          "text": [
            "['/content', '/env/python', '/usr/lib/python310.zip', '/usr/lib/python3.10', '/usr/lib/python3.10/lib-dynload', '', '/usr/local/lib/python3.10/dist-packages', '/usr/lib/python3/dist-packages', '/usr/local/lib/python3.10/dist-packages/IPython/extensions', '/root/.ipython']\n",
            "3.10.12 (main, Jun 11 2023, 05:26:28) [GCC 11.4.0]\n",
            "9223372036854775807\n"
          ]
        }
      ]
    },
    {
      "cell_type": "code",
      "source": [
        "# Random Module\n",
        "\n",
        "import random as r\n",
        "\n",
        "print(r.randrange(1,10))\n",
        "print(r.randint(1,20))\n",
        "print(r.random())\n",
        "\n",
        "places = [\"delhi\",\"punjab\",\"kashmir\",\"hyderabad\"]\n",
        "print(r.choice(places))\n",
        "\n",
        "countries = [\"us\",\"india\",\"arab\",\"china\"]\n",
        "print(r.choices(countries))"
      ],
      "metadata": {
        "colab": {
          "base_uri": "https://localhost:8080/"
        },
        "id": "uWErJ7BAW86c",
        "outputId": "59d42be7-da81-4bd0-886e-3df3b964574a"
      },
      "execution_count": 7,
      "outputs": [
        {
          "output_type": "stream",
          "name": "stdout",
          "text": [
            "7\n",
            "13\n",
            "0.3744028300163742\n",
            "punjab\n",
            "['us']\n"
          ]
        }
      ]
    }
  ],
  "metadata": {
    "colab": {
      "provenance": [],
      "authorship_tag": "ABX9TyNz2ToKmnDcf4KdwyUUp4hl",
      "include_colab_link": true
    },
    "kernelspec": {
      "display_name": "Python 3",
      "name": "python3"
    },
    "language_info": {
      "name": "python"
    }
  },
  "nbformat": 4,
  "nbformat_minor": 0
}