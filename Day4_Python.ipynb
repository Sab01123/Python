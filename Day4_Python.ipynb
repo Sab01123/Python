{
  "nbformat": 4,
  "nbformat_minor": 0,
  "metadata": {
    "colab": {
      "provenance": [],
      "authorship_tag": "ABX9TyMrZ9whrfN6RJPhqmK/XBEp",
      "include_colab_link": true
    },
    "kernelspec": {
      "name": "python3",
      "display_name": "Python 3"
    },
    "language_info": {
      "name": "python"
    }
  },
  "cells": [
    {
      "cell_type": "markdown",
      "metadata": {
        "id": "view-in-github",
        "colab_type": "text"
      },
      "source": [
        "<a href=\"https://colab.research.google.com/github/Sab01123/Python/blob/main/Day4_Python.ipynb\" target=\"_parent\"><img src=\"https://colab.research.google.com/assets/colab-badge.svg\" alt=\"Open In Colab\"/></a>"
      ]
    },
    {
      "cell_type": "code",
      "execution_count": 14,
      "metadata": {
        "colab": {
          "base_uri": "https://localhost:8080/"
        },
        "id": "aYqDzoXjwqeO",
        "outputId": "43140480-f34d-4ea2-8828-8b7afecd3bcb"
      },
      "outputs": [
        {
          "output_type": "stream",
          "name": "stdout",
          "text": [
            "name 'z' is not defined\n",
            "invalid literal for int() with base 10: 'hi 123'\n",
            "division by zero\n"
          ]
        }
      ],
      "source": [
        "# Exception Handling\n",
        "\n",
        "# common errors\n",
        "# NameError\n",
        "\n",
        "# print(x)  NameError: name 'x' is not defined\n",
        "\n",
        "try:\n",
        "  print(z)\n",
        "except NameError as ne:\n",
        "  print(ne)\n",
        "\n",
        "# ValueError\n",
        "str1 = \"hi 123\"\n",
        "# print(int(str1))  ValueError: invalid literal for int() with base 10: 'hi 123'\n",
        "\n",
        "try:\n",
        "  print(int(str1))\n",
        "except ValueError as ve:\n",
        "  print(ve)\n",
        "# ZeroDivisionError\n",
        "i = 10\n",
        "j = 0\n",
        "# z = i/j\n",
        "# print(z)  ZeroDivisionError: division by zero\n",
        "\n",
        "try:\n",
        "  print(i/j)\n",
        "except ZeroDivisionError as zde:\n",
        "  print(zde)\n"
      ]
    },
    {
      "cell_type": "code",
      "source": [
        "num = input(\"Enter num: \")\n",
        "\n",
        "try:\n",
        "  if int(num) >=0:\n",
        "    print(\"number entered: \",num)\n",
        "except ValueError :\n",
        "  print(\"invalid value\")\n",
        ""
      ],
      "metadata": {
        "colab": {
          "base_uri": "https://localhost:8080/"
        },
        "id": "QKpf0wvBzwB1",
        "outputId": "0eaeda32-f3d1-4359-87e3-57608879399e"
      },
      "execution_count": 6,
      "outputs": [
        {
          "output_type": "stream",
          "name": "stdout",
          "text": [
            "Enter num: gg\n",
            "invalid value\n"
          ]
        }
      ]
    },
    {
      "cell_type": "code",
      "source": [
        "# User Defined Exception\n",
        "\n",
        "# class TooYoungException(Exception):\n",
        "#   def __init__(self,msg):\n",
        "#     self.msg=msg\n",
        "\n",
        "\n",
        "# class TooOldException(Exception):\n",
        "#   def __init__(self,msg):\n",
        "#     self.msg=msg\n",
        "\n",
        "# age = int(input(\"enter your age: \"))\n",
        "\n",
        "# if(age<18):\n",
        "#   raise TooYoungException('Sorry you are not eligible for this job')\n",
        "# elif age>60:\n",
        "#   raise TooOldException(\"not eligible...\")\n",
        "# else:\n",
        "#   print(\"you can submit your docmunets\")\n",
        "\n",
        "class TooYoungException(Exception):\n",
        "    def __str__(self):\n",
        "        return \"too young\"\n",
        "\n",
        "\n",
        "class TooOldException(Exception):\n",
        "    def __str__(self):\n",
        "        return \"too old\"\n",
        "\n",
        "\n",
        "age = int(input(\"enter your age: \"))\n",
        "try:\n",
        "    if age < 18:\n",
        "        raise TooYoungException()\n",
        "    elif age > 60:\n",
        "        raise TooOldException(\"not eligible...\")\n",
        "    else:\n",
        "        print(\"you can submit your docmunets\")\n",
        "except TooYoungException as tye:\n",
        "    print('Sorry you are not eligible for this job')\n",
        "except TooOldException as toe:\n",
        "    print('Too Old..')\n",
        "finally:\n",
        "    print(\"END\")\n"
      ],
      "metadata": {
        "colab": {
          "base_uri": "https://localhost:8080/"
        },
        "id": "pBIbkqjYjx8K",
        "outputId": "87f88e41-36ae-44ca-f80c-58f87f5c5988"
      },
      "execution_count": 2,
      "outputs": [
        {
          "output_type": "stream",
          "name": "stdout",
          "text": [
            "enter your age: 77\n",
            "Too Old..\n",
            "END\n"
          ]
        }
      ]
    },
    {
      "cell_type": "code",
      "source": [],
      "metadata": {
        "id": "oGM4DEtLszYn"
      },
      "execution_count": null,
      "outputs": []
    },
    {
      "cell_type": "code",
      "source": [
        "# Packages\n",
        "\n",
        "# on pycharm IDE PythonProject\n",
        "\n",
        "# import testpack.credit as c\n",
        "#\n",
        "# c.credit_amount()\n",
        "#\n",
        "# import testpack.debit as d\n",
        "#\n",
        "# d.debit_amount()\n",
        "\n",
        "# from testpack import credit as c,debit as b\n",
        "# c.credit_amount()\n",
        "# b.debit_amount()\n",
        "\n",
        "# import only specific\n",
        "\n",
        "# from testpack.credit import another_method\n",
        "\n",
        "# another_method()\n",
        "\n"
      ],
      "metadata": {
        "id": "Cbd2XxGjyQal"
      },
      "execution_count": null,
      "outputs": []
    },
    {
      "cell_type": "code",
      "source": [
        "# Example done by myself on pycharm\n",
        "\n",
        "class Employee:\n",
        "    def __init__(self,e_id, e_name, e_salary):\n",
        "        self.e_id = e_id\n",
        "        self.e_name = e_name\n",
        "        self.e_salary = e_salary\n",
        "\n",
        "    def display_info(self):\n",
        "        return self.e_id,self.e_name,self.e_salary\n",
        "\n",
        "\n",
        "emp_list = []\n",
        "x = 1\n",
        "while True:\n",
        "    print(\"Enter Employee Details of Employee \",x)\n",
        "\n",
        "    id = input(\"Enter ID: \")\n",
        "    name = input(\"Enter name: \")\n",
        "    salary = input(\"Enter salary: \")\n",
        "    emp = Employee(id,name, salary)\n",
        "    emp_list.append(emp)\n",
        "    emp.display_info()\n",
        "    print(\"Employee \",x,\"registered with details: \", emp.display_info())\n",
        "\n",
        "    x += 1\n",
        "    print(\"want to enter more employee details\")\n",
        "    option = input(\"Enter y or n: \")\n",
        "\n",
        "    if(option.upper()=='N'):\n",
        "        break\n",
        "opt = input(\"Do you want to check all employee details y/n \")\n",
        "\n",
        "if opt.upper()=='Y':\n",
        "    print(\"All employee Details\")\n",
        "    for i in emp_list:\n",
        "        print(\"Employee Id: \",i.e_id)\n",
        "        print(\"Employee name: \",i.e_name)\n",
        "        print(\"Employee salary: \",i.e_salary)\n",
        "        print(\"--------------------\")\n",
        "elif opt.upper()=='N':\n",
        "    print(\"Okay\")\n",
        "else:\n",
        "    \"Thank You..\"\n",
        "\n",
        "# Enter Employee Details of Employee  1\n",
        "# Enter ID: 1\n",
        "# Enter name: sabira\n",
        "# Enter salary: 100\n",
        "# Employee  1 registered with details:  ('1', 'sabira', '100')\n",
        "# want to enter more employee details\n",
        "# Enter y or n: y\n",
        "# Enter Employee Details of Employee  2\n",
        "# Enter ID: 2\n",
        "# Enter name: farooq\n",
        "# Enter salary: 200\n",
        "# Employee  2 registered with details:  ('2', 'farooq', '200')\n",
        "# want to enter more employee details\n",
        "# Enter y or n: y\n",
        "# Enter Employee Details of Employee  3\n",
        "# Enter ID: 3\n",
        "# Enter name: fatima\n",
        "# Enter salary: 300\n",
        "# Employee  3 registered with details:  ('3', 'fatima', '300')\n",
        "# want to enter more employee details\n",
        "# Enter y or n: N\n",
        "# Do you want to check all employee details y/n Y\n",
        "# All employee Details\n",
        "# Employee Id:  1\n",
        "# Employee name:  sabira\n",
        "# Employee salary:  100\n",
        "# --------------------\n",
        "# Employee Id:  2\n",
        "# Employee name:  farooq\n",
        "# Employee salary:  200\n",
        "# --------------------\n",
        "# Employee Id:  3\n",
        "# Employee name:  fatima\n",
        "# Employee salary:  300\n",
        "# --------------------\n",
        "\n",
        "# Process finished with exit code 0"
      ],
      "metadata": {
        "id": "Er6bfNbfKMxf"
      },
      "execution_count": null,
      "outputs": []
    },
    {
      "cell_type": "code",
      "source": [
        "# Pickling and UnPickling on IDE pyCharm, PythoneProject, PicklingUnPlicking package\n",
        "# class Employee:\n",
        "#     def __init__(self,e_id, e_name, e_address):\n",
        "#         self.e_id = e_id\n",
        "#         self.e_name = e_name\n",
        "#         self.e_address = e_address\n",
        "\n",
        "#     def show_info(self):\n",
        "#         print(self.e_id,self.e_name,self.e_address)\n",
        "\n",
        "# import pickle,Employee\n",
        "\n",
        "# f = open(\"xy_z.dat\", 'wb')\n",
        "# num = int(input(\"enter total number of employees: \"))\n",
        "\n",
        "# x = 1\n",
        "# for i in range(num):\n",
        "#     print(\"Enter Details of Employee \",x)\n",
        "#     id = input(\"Enter ID: \")\n",
        "#     name = input(\"Enter name: \")\n",
        "#     address = input(\"Enter address: \")\n",
        "\n",
        "#     emp = Employee.Employee(id,name,address)\n",
        "#     pickle.dump(emp,f)\n",
        "#     x += 1\n",
        "\n",
        "# print(\"Employee Objects Pickled Successfully\")\n",
        "\n",
        "# import pickle as p, Employee as e\n",
        "\n",
        "# f = open('xy_z.dat','rb')\n",
        "\n",
        "# print(\"All Employee Details...\")\n",
        "# while True:\n",
        "#     try:\n",
        "#         obj = p.load(f)\n",
        "#         obj.show_info()\n",
        "\n",
        "#     except EOFError:\n",
        "#         print(\"All Employee Details Done\")\n",
        "#         break\n",
        "\n",
        "\n",
        "# Output\n",
        "# All Employee Details...\n",
        "# 1 sam delhi\n",
        "# 2 saba jammu\n",
        "# 3 sabira hyd\n",
        "# All Employee Details Done\n",
        "\n",
        "# Process finished with exit code 0\n"
      ],
      "metadata": {
        "id": "qptGK3Epv9cT"
      },
      "execution_count": null,
      "outputs": []
    }
  ]
}